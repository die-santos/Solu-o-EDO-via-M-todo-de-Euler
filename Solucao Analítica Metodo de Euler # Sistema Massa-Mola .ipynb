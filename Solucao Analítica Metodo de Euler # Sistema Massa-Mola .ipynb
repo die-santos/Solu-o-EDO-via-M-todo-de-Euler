{
 "cells": [
  {
   "cell_type": "markdown",
   "metadata": {},
   "source": [
    "# <center>Sistema Massa-Mola com Oscilação Vertical</center>\n",
    "## <center>Solução Analítica Método de Euler</center>\n",
    "\n",
    "Suponha uma mola de constante elástica $k$ e um bloco de massa $m$ que se aproximam das condições de um oscilador massa-mola ideal, com a mola presa verticalmente à um suporte e ao bloco, em um ambiente que não cause resistência ao movimento do sistema.\n",
    "\n",
    "A equação diferencial para sistema será:\n",
    "\n",
    "$$\\ddot{x}  =\\left (-\\frac{k}{m}  \\right )x-g$$"
   ]
  },
  {
   "cell_type": "markdown",
   "metadata": {},
   "source": [
    "Biblioteca pylab para a construção de gráficos"
   ]
  },
  {
   "cell_type": "code",
   "execution_count": 1,
   "metadata": {},
   "outputs": [],
   "source": [
    "from pylab import *"
   ]
  },
  {
   "cell_type": "markdown",
   "metadata": {},
   "source": [
    "Criando a função Método de Euler"
   ]
  },
  {
   "cell_type": "code",
   "execution_count": 2,
   "metadata": {},
   "outputs": [],
   "source": [
    "def euler(y, t, dt, derivative):\n",
    "    y_next = y + derivative(y,t) * dt\n",
    "    return y_next"
   ]
  },
  {
   "cell_type": "markdown",
   "metadata": {},
   "source": [
    "Criando as constantes"
   ]
  },
  {
   "cell_type": "code",
   "execution_count": 3,
   "metadata": {},
   "outputs": [],
   "source": [
    "#Número de etapas a serem seguidas\n",
    "N = 1000\n",
    "\n",
    "#Posição inicial (m)\n",
    "x0 = 0.0\n",
    "\n",
    "#Velocidade inicial (m/s)\n",
    "v0 = 0.0\n",
    "\n",
    "#Tempo para a simulação (s)\n",
    "tau = 3.0\n",
    "\n",
    "#Constante elástica (N/m)\n",
    "k = 3.5\n",
    "\n",
    "#Massa do bloco (Kg)\n",
    "m = 0.2\n",
    "\n",
    "#gravidade (m/s^2)\n",
    "gravity = 9.8"
   ]
  },
  {
   "cell_type": "markdown",
   "metadata": {},
   "source": [
    "Etapa de tempo"
   ]
  },
  {
   "cell_type": "code",
   "execution_count": 4,
   "metadata": {},
   "outputs": [],
   "source": [
    "dt = tau/float(N-1)"
   ]
  },
  {
   "cell_type": "markdown",
   "metadata": {},
   "source": [
    "Tempo para plotagem do gráfico"
   ]
  },
  {
   "cell_type": "code",
   "execution_count": 5,
   "metadata": {},
   "outputs": [],
   "source": [
    "time = linspace(0, tau, N)"
   ]
  },
  {
   "cell_type": "markdown",
   "metadata": {},
   "source": [
    "Criando uma matriz com N linhas e 2 colunas para armazenar os resultados de cada cálculo. Cada linha de 2 elementos será usada para o estado do sistema em um instante e cada instante é separado pelo tempo dt. O primeiro elemento de cada linha será a posição e o segundo será a  velocidade."
   ]
  },
  {
   "cell_type": "code",
   "execution_count": 6,
   "metadata": {},
   "outputs": [],
   "source": [
    "y = zeros ([N,2])"
   ]
  },
  {
   "cell_type": "markdown",
   "metadata": {},
   "source": [
    "Condições iniciais"
   ]
  },
  {
   "cell_type": "code",
   "execution_count": 7,
   "metadata": {},
   "outputs": [],
   "source": [
    "y[0] = x0\n",
    "y[1] = v0"
   ]
  },
  {
   "cell_type": "markdown",
   "metadata": {},
   "source": [
    "Definindo a equação diferencial para este sistema.\n",
    "\n",
    "Nesta etapa pegamos a equação diferencial de segunda ordem.\n",
    "\n",
    "$$\\ddot{x}  =\\left (-\\frac{k}{m}  \\right )x-g$$\n",
    "\n",
    "E a transformamos em duas equações diferencias de primeira ordem, introduzindo a velocidade $v$.\n",
    "\n",
    "$$\\dot{x} = v$$\n",
    "\n",
    "$$\\dot{v} = \\left (-\\frac{k}{m}  \\right )x-g$$\n"
   ]
  },
  {
   "cell_type": "code",
   "execution_count": 8,
   "metadata": {},
   "outputs": [],
   "source": [
    "def SHO(position,time):\n",
    "    g0 = position[1]\n",
    "    g1 = -(k/m)*position[0]- gravity\n",
    "    return array([g0,g1])"
   ]
  },
  {
   "cell_type": "markdown",
   "metadata": {},
   "source": [
    "Iniciando os cálculos. O loop é feito apenas para N-1, para que não haja problemas ao abordar o ponto N+1.\n",
    "Aplica-se o Método de Euler para a solução analítica."
   ]
  },
  {
   "cell_type": "code",
   "execution_count": 9,
   "metadata": {},
   "outputs": [],
   "source": [
    "for i in range(N-1):\n",
    "    y[i+1] = euler(y[i],time[i],dt,SHO)"
   ]
  },
  {
   "cell_type": "markdown",
   "metadata": {},
   "source": [
    "Obtendo os resultados de y"
   ]
  },
  {
   "cell_type": "code",
   "execution_count": 10,
   "metadata": {},
   "outputs": [],
   "source": [
    "xdata = [y[i,0] for i in range (N)] \n",
    "vdata = [y[i,1] for i in range (N)]"
   ]
  },
  {
   "cell_type": "markdown",
   "metadata": {},
   "source": [
    "Plotando os resultados."
   ]
  },
  {
   "cell_type": "code",
   "execution_count": 11,
   "metadata": {},
   "outputs": [
    {
     "data": {
      "image/png": "[encoded data removed]",
      "text/plain": [
       "<Figure size 432x288 with 1 Axes>"
      ]
     },
     "metadata": {
      "needs_background": "light"
     },
     "output_type": "display_data"
    }
   ],
   "source": [
    "plot (time , xdata, label = 'Position') \n",
    "plot (time , vdata, label = 'Velocity') \n",
    "xlabel ('Time') \n",
    "legend()\n",
    "show()\n"
   ]
  },
  {
   "cell_type": "markdown",
   "metadata": {},
   "source": [
    "Referência:\n",
    "\n",
    "AYARS, Eric et al. Computational Physics With Python. Califórnia: California State University, 2013. 194 p."
   ]
  },
  {
   "cell_type": "code",
   "execution_count": null,
   "metadata": {},
   "outputs": [],
   "source": []
  }
 ],
 "metadata": {
  "kernelspec": {
   "display_name": "Python 3",
   "language": "python",
   "name": "python3"
  },
  "language_info": {
   "codemirror_mode": {
    "name": "ipython",
    "version": 3
   },
   "file_extension": ".py",
   "mimetype": "text/x-python",
   "name": "python",
   "nbconvert_exporter": "python",
   "pygments_lexer": "ipython3",
   "version": "3.7.4"
  }
 },
 "nbformat": 4,
 "nbformat_minor": 2
}
